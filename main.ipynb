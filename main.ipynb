{
 "cells": [
  {
   "cell_type": "code",
   "execution_count": null,
   "id": "cc449710-1a15-43f2-8ae6-87118871b7d0",
   "metadata": {},
   "outputs": [],
   "source": [
    "import plotly.express as px\n",
    "# pip install plotly, pandas\n",
    "import pandas as pd\n",
    "import numpy as np\n",
    "from IPython.display import HTML # 导入HTML"
   ]
  },
  {
   "cell_type": "code",
   "execution_count": null,
   "id": "29bec311-67d5-4726-a264-c2b07d66a68a",
   "metadata": {},
   "outputs": [],
   "source": [
    "# GDP DATA\n",
    "gapminder=px.data.gapminder()\n",
    "gapminder.head()"
   ]
  },
  {
   "cell_type": "code",
   "execution_count": null,
   "id": "aaf1b4be-6a1c-4827-86d6-6b56a46213ca",
   "metadata": {},
   "outputs": [],
   "source": [
    "# 餐厅流水数据\n",
    "tips=px.data.tips()\n",
    "tips.head()"
   ]
  },
  {
   "cell_type": "code",
   "execution_count": null,
   "id": "7323c299-0846-40ba-bae7-923924a81d5e",
   "metadata": {},
   "outputs": [],
   "source": [
    "# 鸢尾花数据集\n",
    "iris=px.data.iris()\n",
    "iris.head()"
   ]
  },
  {
   "cell_type": "code",
   "execution_count": null,
   "id": "71ba18c8-8489-4930-b993-fb4589010419",
   "metadata": {},
   "outputs": [],
   "source": [
    "# 风力数据\n",
    "wind = px.data.wind()\n",
    "wind.head()"
   ]
  },
  {
   "cell_type": "code",
   "execution_count": null,
   "id": "78e943bd-c7a4-45bb-b323-a76d088c65a7",
   "metadata": {},
   "outputs": [],
   "source": [
    "# 选举投票结果\n",
    "election=px.data.election()\n",
    "election.head()"
   ]
  },
  {
   "cell_type": "code",
   "execution_count": null,
   "id": "afe6e168-85a5-433c-a1bb-c1dd95b9a8ef",
   "metadata": {},
   "outputs": [],
   "source": [
    "# 汽车共享可用性数据\n",
    "carshare=px.data.carshare()\n",
    "carshare.head()"
   ]
  },
  {
   "cell_type": "code",
   "execution_count": null,
   "id": "105d32a3-e7c0-4608-bcb5-f050a60bcc8e",
   "metadata": {},
   "outputs": [],
   "source": [
    "# 股票数据\n",
    "stock=px.data.stocks()\n",
    "stock.head()"
   ]
  },
  {
   "cell_type": "code",
   "execution_count": null,
   "id": "2e655eb0-4fc0-42f3-ad60-e69496972cb3",
   "metadata": {
    "scrolled": true
   },
   "outputs": [],
   "source": [
    "fig=px.colors.carto.swatches()\n",
    "HTML(fig.to_html())"
   ]
  },
  {
   "cell_type": "code",
   "execution_count": null,
   "id": "119628ba-813f-46a3-9ea5-6e37f7d10dba",
   "metadata": {},
   "outputs": [],
   "source": [
    "fig=px.colors.cmocean.swatches()\n",
    "HTML(fig.to_html())"
   ]
  },
  {
   "cell_type": "code",
   "execution_count": null,
   "id": "63aa05fb-ba76-49f9-85b2-52f611d56cdd",
   "metadata": {},
   "outputs": [],
   "source": [
    "fig=px.colors.colorbrewer.swatches()\n",
    "HTML(fig.to_html())"
   ]
  },
  {
   "cell_type": "code",
   "execution_count": null,
   "id": "a84c18c0-1570-46a7-ba67-37e341f15da4",
   "metadata": {},
   "outputs": [],
   "source": [
    "fig=px.colors.cyclical.swatches()\n",
    "HTML(fig.to_html())"
   ]
  },
  {
   "cell_type": "code",
   "execution_count": null,
   "id": "4bcfe65d-e14a-4def-bc01-3294a33158e2",
   "metadata": {},
   "outputs": [],
   "source": [
    "fig=px.colors.diverging.swatches()\n",
    "HTML(fig.to_html())"
   ]
  },
  {
   "cell_type": "code",
   "execution_count": null,
   "id": "c61e037d-60bb-4270-8f0d-ba9228cc1358",
   "metadata": {},
   "outputs": [],
   "source": [
    "fig=px.colors.qualitative.swatches()\n",
    "HTML(fig.to_html())"
   ]
  },
  {
   "cell_type": "code",
   "execution_count": null,
   "id": "917c9aa8-fff6-4271-9ad6-4f6555be53bf",
   "metadata": {},
   "outputs": [],
   "source": [
    "fig=px.colors.sequential.swatches()\n",
    "HTML(fig.to_html())"
   ]
  },
  {
   "cell_type": "code",
   "execution_count": null,
   "id": "9a41af3c-794a-4d23-be0e-291b8f24c7ef",
   "metadata": {},
   "outputs": [],
   "source": [
    "Switzerland  = gapminder[gapminder[\"country\"] == \"Switzerland\"]\n",
    "Switzerland   # 数据显示如下"
   ]
  },
  {
   "cell_type": "code",
   "execution_count": null,
   "id": "7fe2569e-73e9-4917-b024-5bf5ed6759fe",
   "metadata": {},
   "outputs": [],
   "source": [
    "fig=px.bar(Switzerland,  # 上面指定的数据\n",
    "       x=\"year\",  # 横坐标\n",
    "       y=\"pop\",  # 纵坐标\n",
    "       color=\"pop\")  # 颜色取值\n",
    "HTML(fig.to_html())"
   ]
  },
  {
   "cell_type": "code",
   "execution_count": null,
   "id": "81a4eaff-668a-4a21-9269-c0c8206a625c",
   "metadata": {},
   "outputs": [],
   "source": [
    "gapminder_2002 = gapminder[gapminder[\"year\"] == 2002]\n",
    "gapminder_2002"
   ]
  },
  {
   "cell_type": "code",
   "execution_count": null,
   "id": "f18407a0-da42-445c-a820-52f781bf6bf7",
   "metadata": {},
   "outputs": [],
   "source": [
    "fig=px.scatter(gapminder_2002,   # 传入的数据集\n",
    "           x=\"gdpPercap\",  # 横坐标是人均GDP\n",
    "           y=\"lifeExp\",  # 纵坐标是平均寿命\n",
    "           color=\"continent\"  # 颜色取值：根据洲的值来取\n",
    "          )\n",
    "HTML(fig.to_html())"
   ]
  },
  {
   "cell_type": "code",
   "execution_count": null,
   "id": "a6114803-282b-4c36-968e-d197d28cb53b",
   "metadata": {},
   "outputs": [],
   "source": [
    "fig=px.scatter(gapminder_2002   # 绘图DataFrame数据集\n",
    "           ,x=\"gdpPercap\"  # 横坐标\n",
    "           ,y=\"lifeExp\"  # 纵坐标\n",
    "           ,color=\"continent\"  # 区分颜色\n",
    "           ,size=\"pop\"   # 区分圆的大小\n",
    "           ,size_max=60  # 散点大小\n",
    "          )\n",
    "HTML(fig.to_html())"
   ]
  },
  {
   "cell_type": "code",
   "execution_count": null,
   "id": "a1ec7dd5-77ee-4d38-beec-fde18e08749c",
   "metadata": {},
   "outputs": [],
   "source": [
    "fig=px.scatter_matrix(iris,  # 传入绘图数据\n",
    "                  dimensions=[\"sepal_width\",\"sepal_length\",\"petal_width\",\"petal_length\"],  # 维度设置\n",
    "                  color=\"species\")  # 颜色取值\n",
    "HTML(fig.to_html())"
   ]
  },
  {
   "cell_type": "code",
   "execution_count": null,
   "id": "e37ba903-eb25-4002-95af-6de10d3d1137",
   "metadata": {},
   "outputs": [],
   "source": [
    "fig=px.area(gapminder,   # 绘图的数据集\n",
    "        x=\"year\",   # 横轴数据\n",
    "        y=\"pop\",  # 纵轴数据\n",
    "        color=\"continent\",  # 颜色取值\n",
    "        line_group=\"country\")  # 线型分组\n",
    "HTML(fig.to_html())"
   ]
  },
  {
   "cell_type": "code",
   "execution_count": null,
   "id": "06a98042-979f-4a57-8d27-97c688e7ad0b",
   "metadata": {},
   "outputs": [],
   "source": [
    "fig=px.line(stock, x='date', y=\"FB\")  \n",
    "HTML(fig.to_html())"
   ]
  },
  {
   "cell_type": "code",
   "execution_count": null,
   "id": "6ac8b0ac-276a-450a-9545-eda776f2ae40",
   "metadata": {},
   "outputs": [],
   "source": [
    "total_bill_byday=tips.groupby(by=\"day\")[\"total_bill\"].sum().reset_index()\n",
    "total_bill_byday\n",
    "fig=px.pie(total_bill_byday, # 绘图数据\n",
    "       names=\"day\",  # 每个组的名字\n",
    "       values=\"total_bill\"  # 组的取值\n",
    "      )\n",
    "HTML(fig.to_html())"
   ]
  },
  {
   "cell_type": "code",
   "execution_count": null,
   "id": "a1b52818-70d0-456a-a53b-8fb80e6120d9",
   "metadata": {},
   "outputs": [],
   "source": [
    "gapminder_2002 = gapminder[gapminder[\"year\"] == 2002]\n",
    "\n",
    "fig=px.sunburst(gapminder_2002,   # 绘图数据\n",
    "            path=['continent', 'country'],  # 指定路径：从洲到国家\n",
    "            values='pop', # 数据大小：人口数\n",
    "            color='lifeExp',  # 颜色\n",
    "            hover_data=['iso_alpha'] # 显示数据\n",
    "           )\n",
    "HTML(fig.to_html())"
   ]
  },
  {
   "cell_type": "code",
   "execution_count": null,
   "id": "6ed98e1b-9642-4254-8a96-93d05f99bf85",
   "metadata": {},
   "outputs": [],
   "source": [
    "data = dict(   # 创建原始数据\n",
    "    number = [1000, 800, 400, 200, 100, 30],\n",
    "    stage = [\"UV\", \"搜索\", \"搜藏\", \"加购\", \"下单\", \"付款\"]\n",
    ")\n",
    "\n",
    "# 传入数据和数轴\n",
    "fig=px.funnel(data, \n",
    "          x=\"number\", \n",
    "          y=\"stage\"\n",
    "          )\n",
    "HTML(fig.to_html())"
   ]
  },
  {
   "cell_type": "code",
   "execution_count": null,
   "id": "669ba0e7-916c-4a46-945a-a848113af37b",
   "metadata": {},
   "outputs": [],
   "source": [
    "data = dict(   # 创建原始数据\n",
    "    number = [1000, 800, 400, 200, 100, 30],\n",
    "    stage = [\"UV\", \"搜索\", \"搜藏\", \"加购\", \"下单\", \"付款\"]\n",
    ")\n",
    "\n",
    "# 传入数据和数轴\n",
    "fig=px.funnel(data, \n",
    "          x=\"number\", \n",
    "          y=\"stage\",\n",
    "          color=\"number\"  # 颜色设置\n",
    "         )\n",
    "HTML(fig.to_html())"
   ]
  },
  {
   "cell_type": "code",
   "execution_count": null,
   "id": "7c57a49a-98e6-4f50-8a11-468f085a9a44",
   "metadata": {},
   "outputs": [],
   "source": [
    "fig=px.histogram(\n",
    "    tips,  # 绘图数据\n",
    "    x=\"sex\",  # 指定两个数轴\n",
    "    y=\"tip\",\n",
    "    histfunc=\"avg\",  # 直方图函数：均值\n",
    "    color=\"smoker\",  # 颜色取值\n",
    "    barmode=\"group\",  # 柱状图模式\n",
    "    facet_row=\"time\",  # 横纵纵轴的字段设置\n",
    "    facet_col=\"day\",\n",
    "    category_orders={\"day\":[\"Thur\",\"Fri\",\"Sat\",\"Sun\"],  # 分类\n",
    "                     \"time\":[\"Lunch\",\"Dinner\"]})\n",
    "HTML(fig.to_html())"
   ]
  },
  {
   "cell_type": "code",
   "execution_count": null,
   "id": "f3b6d138-5602-40fa-aa6f-310b47d82426",
   "metadata": {},
   "outputs": [],
   "source": [
    "fig=px.scatter(\n",
    "    iris,\n",
    "    x=\"sepal_width\",\n",
    "    y=\"sepal_length\",\n",
    "    color=\"species\",\n",
    "    marginal_x=\"histogram\",\n",
    "    marginal_y=\"rug\")\n",
    "HTML(fig.to_html())"
   ]
  },
  {
   "cell_type": "code",
   "execution_count": null,
   "id": "8a659e49-c007-4143-a4b2-7ef77aff4f4e",
   "metadata": {},
   "outputs": [],
   "source": [
    "fig=px.box(tips,  # 数据集\n",
    "       x=\"day\",  # 横轴数据\n",
    "       y=\"total_bill\",  # 纵轴数据\n",
    "       color=\"smoker\",  # 颜色\n",
    "       notched=True)  # 连接处的锥形部分显示出来\n",
    "HTML(fig.to_html())"
   ]
  },
  {
   "cell_type": "code",
   "execution_count": null,
   "id": "befe0e87-39c5-4ddb-ba69-d0abcb819fc3",
   "metadata": {},
   "outputs": [],
   "source": [
    "# pip install statsmodels\n",
    "fig=px.scatter(iris,  # 传入数据\n",
    "           x=\"sepal_width\",  # 设置XY轴\n",
    "           y=\"sepal_length\",\n",
    "           color=\"species\",  # 颜色取值\n",
    "           marginal_y=\"violin\",  # xy两表图形的设置：小提琴图和箱型图\n",
    "           marginal_x=\"box\",\n",
    "           trendline=\"ols\")  # 趋势线设置\n",
    "HTML(fig.to_html())"
   ]
  },
  {
   "cell_type": "code",
   "execution_count": null,
   "id": "a3a90d48-ba98-43b5-8f70-74c175df27c1",
   "metadata": {},
   "outputs": [],
   "source": [
    "fig=px.density_contour(iris,  # 数据集\n",
    "                   x=\"sepal_width\",  # xy轴\n",
    "                   y=\"sepal_length\",\n",
    "                   color=\"species\"  # 颜色取值\n",
    "                  )  \n",
    "HTML(fig.to_html())"
   ]
  },
  {
   "cell_type": "code",
   "execution_count": null,
   "id": "72872497-819f-4f31-8eb8-fdeaaf419dc8",
   "metadata": {},
   "outputs": [],
   "source": [
    "fig=px.density_contour(\n",
    "  iris,  # 传入绘图数据\n",
    "  x=\"sepal_width\",  # 指定xy轴\n",
    "  y=\"sepal_length\",\n",
    "  color=\"species\",  # 颜色设置\n",
    "  marginal_x=\"rug\",  # 需要传入边缘图形\n",
    "  marginal_y=\"histogram\"   \n",
    ")\n",
    "HTML(fig.to_html())"
   ]
  },
  {
   "cell_type": "code",
   "execution_count": null,
   "id": "6e949321-cbf1-4d07-b713-b0487fd7fb8f",
   "metadata": {},
   "outputs": [],
   "source": [
    "fig=px.density_heatmap(iris,   # 传入数据\n",
    "                   x=\"sepal_width\",  # 两个轴的数据设置\n",
    "                   y=\"sepal_length\",\n",
    "                   marginal_y=\"rug\",  # 边缘图形设置\n",
    "                   marginal_x=\"histogram\"   # 在密度图的基础上，指定另外两种图形\n",
    "                  )\n",
    "HTML(fig.to_html())"
   ]
  },
  {
   "cell_type": "code",
   "execution_count": null,
   "id": "e91c543a-dfd9-44b2-bb20-1bf1cbf5701b",
   "metadata": {},
   "outputs": [],
   "source": [
    "fig=px.parallel_categories(\n",
    "    tips,  # 传入数据\n",
    "    color=\"size\",  # 颜色取值\n",
    "    color_continuous_scale=px.colors.sequential.Inferno # 颜色变化趋势\n",
    ")\n",
    "HTML(fig.to_html())"
   ]
  },
  {
   "cell_type": "code",
   "execution_count": null,
   "id": "457d237e-ac71-4da4-88c2-a4c43f626190",
   "metadata": {},
   "outputs": [],
   "source": [
    "fig=px.scatter_3d(\n",
    "    election,  # 传入数据集\n",
    "    x=\"Joly\",  # 指定XYZ坐标轴的数据\n",
    "    y=\"Coderre\",  \n",
    "    z=\"Bergeron\",  \n",
    "    color=\"winner\",  # 颜色取值\n",
    "    size=\"total\",   # 大小取值\n",
    "    hover_name=\"district_id\",  # 指定颜色种类、大小和显示名称\n",
    "    symbol=\"result\",  # 右边的圆形和菱形\n",
    "    color_discrete_map={\"Joly\":\"blue\",\n",
    "                        \"Bergeron\":\"green\",\n",
    "                        \"Coderre\":\"red\"}   # 改变默认颜色\n",
    ")\n",
    "HTML(fig.to_html())"
   ]
  },
  {
   "cell_type": "code",
   "execution_count": null,
   "id": "39fe3d23-2422-4e50-b55e-07a02063900a",
   "metadata": {},
   "outputs": [],
   "source": [
    "fig=px.line_3d(\n",
    "  election,  # 绘图数据集\n",
    "  x=\"Joly\",  # 3个坐标轴\n",
    "  y=\"Coderre\",\n",
    "  z=\"Bergeron\",\n",
    "  color=\"winner\",  # 颜色和线型设置\n",
    "  line_dash=\"winner\"\n",
    ")\n",
    "HTML(fig.to_html())"
   ]
  },
  {
   "cell_type": "code",
   "execution_count": null,
   "id": "af17a819-16f3-461d-bbf6-70e3af44fe6c",
   "metadata": {},
   "outputs": [],
   "source": [
    "fig=px.choropleth(\n",
    "  gapminder,  # 数据\n",
    "  locations=\"iso_alpha\",  # 简称\n",
    "  color=\"lifeExp\",  # 颜色取值\n",
    "  hover_name=\"country\",  # 悬停数据\n",
    "  animation_frame=\"year\",  # 播放按钮设置\n",
    "  color_continuous_scale=px.colors.sequential.Plasma,  # 颜色变化取值\n",
    "  projection=\"natural earth\"  # 使用的地图设置\n",
    ") \n",
    "HTML(fig.to_html())"
   ]
  },
  {
   "cell_type": "code",
   "execution_count": null,
   "id": "a99f3287-9e1c-4e31-a2e1-d84cee3cf6ba",
   "metadata": {},
   "outputs": [],
   "source": [
    "fig=px.line_geo(\n",
    "  gapminder_2002,\n",
    "  locations=\"iso_alpha\",\n",
    "  color=\"continent\",\n",
    "  projection=\"orthographic\")\n",
    "HTML(fig.to_html())"
   ]
  },
  {
   "cell_type": "code",
   "execution_count": null,
   "id": "409317a4-c64c-4aa3-91ba-366b65471fca",
   "metadata": {},
   "outputs": [],
   "source": [
    "gapminder_2002 = gapminder[gapminder[\"year\"] == 2002]\n",
    "\n",
    "fig=px.treemap(\n",
    "    gapminder_2002, # 数据\n",
    "    path=[px.Constant('world'), 'continent', 'country'],   # 绘图路径：world---continent---country\n",
    "    values='pop',  # 数据取值\n",
    "    color='pop',   # 颜色取值\n",
    "    hover_data=['iso_alpha'])  # 显示数据：国家简称\n",
    "HTML(fig.to_html())"
   ]
  },
  {
   "cell_type": "code",
   "execution_count": null,
   "id": "6d237e0f-8820-41dd-a2a3-55ffd618f4f8",
   "metadata": {},
   "outputs": [],
   "source": [
    "fig=px.scatter_polar(  # 散点极坐标\n",
    "    wind,  #  数据集\n",
    "    r=\"frequency\",  # 半径\n",
    "    theta=\"direction\",   # 角度\n",
    "    color=\"strength\",  # 颜色\n",
    "    symbol=\"strength\",  # 符号\n",
    "    color_discrete_sequence=px.colors.sequential.Plasma_r)  # 颜色\n",
    "HTML(fig.to_html())"
   ]
  },
  {
   "cell_type": "code",
   "execution_count": null,
   "id": "cb77b0d6-fafb-458e-8616-19adc9d3e9e1",
   "metadata": {},
   "outputs": [],
   "source": [
    "fig=px.line_polar(  # 线性极坐标\n",
    "    wind,  # 数据集\n",
    "    r=\"frequency\",  # 半径\n",
    "    theta=\"direction\",  # 角度\n",
    "    color=\"strength\",  # 颜色\n",
    "    line_close=True,  # 线性闭合\n",
    "    color_discrete_sequence=px.colors.sequential.Plasma_r)  # 颜色\n",
    "HTML(fig.to_html())"
   ]
  },
  {
   "cell_type": "code",
   "execution_count": null,
   "id": "fe766e0c-06f0-4190-8b98-4b0d5d7a8576",
   "metadata": {},
   "outputs": [],
   "source": [
    "fig=px.bar_polar(   # 柱状图极坐标图\n",
    "    wind,   # 数据集\n",
    "    r=\"frequency\",   # 半径\n",
    "    theta=\"direction\",  # 角度\n",
    "    color=\"strength\",  # 颜色\n",
    "    template=\"plotly_dark\",  # 主题\n",
    "    color_discrete_sequence=px.colors.sequential.Plasma_r)  # 颜色\n",
    "HTML(fig.to_html())"
   ]
  },
  {
   "cell_type": "code",
   "execution_count": null,
   "id": "497f292c-d109-43df-9775-4857acc8b378",
   "metadata": {},
   "outputs": [],
   "source": []
  }
 ],
 "metadata": {
  "kernelspec": {
   "display_name": "Python 3 (ipykernel)",
   "language": "python",
   "name": "python3"
  },
  "language_info": {
   "codemirror_mode": {
    "name": "ipython",
    "version": 3
   },
   "file_extension": ".py",
   "mimetype": "text/x-python",
   "name": "python",
   "nbconvert_exporter": "python",
   "pygments_lexer": "ipython3",
   "version": "3.8.17"
  }
 },
 "nbformat": 4,
 "nbformat_minor": 5
}
